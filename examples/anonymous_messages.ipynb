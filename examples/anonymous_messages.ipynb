{
 "cells": [
  {
   "cell_type": "markdown",
   "source": [
    "# Anonymous Messages\n",
    "This notebook contains an example use of Tyche for knowledge extraction from a set of messages, where the source that sent each message is unknown, but the recipient is known. The properties of the messages can be used to learn the different tendencies of the possible sources of the message, without explicitly knowing which sources sent any of the messages. For example, we can learn that Bob uses emojis often, without knowing what messages Bob sent. This is achieved through the use of the observation learning mechanisms of the individuals module of Tyche."
   ],
   "metadata": {
    "collapsed": false,
    "pycharm": {
     "name": "#%% md\n"
    }
   }
  },
  {
   "cell_type": "markdown",
   "source": [
    "## 1. Imports"
   ],
   "metadata": {
    "collapsed": false,
    "pycharm": {
     "name": "#%% md\n"
    }
   }
  },
  {
   "cell_type": "code",
   "execution_count": 1,
   "outputs": [],
   "source": [
    "%matplotlib inline\n",
    "\n",
    "from tyche.individuals import *\n",
    "from tyche.language import *\n",
    "import functools\n",
    "import matplotlib\n",
    "import matplotlib.pyplot as plt\n",
    "\n",
    "matplotlib.rcParams.update({'font.size': 16})"
   ],
   "metadata": {
    "collapsed": false,
    "pycharm": {
     "name": "#%%\n"
    }
   }
  },
  {
   "cell_type": "markdown",
   "source": [
    "## 2. Learning Strategy\n",
    "We use a decaying statistical learning strategy for learning the properties of each person. This allows us to decay earlier observations faster than later observations. Earlier observations are not valued as highly as later observations. This is done to improve convergence as observations are made, while allowing the model to change more during early learning."
   ],
   "metadata": {
    "collapsed": false,
    "pycharm": {
     "name": "#%% md\n"
    }
   }
  },
  {
   "cell_type": "code",
   "execution_count": 2,
   "outputs": [],
   "source": [
    "decaying_learning_strat = StatisticalConceptLearningStrategy(\n",
    "    decay_rate=0.95, decay_rate_for_decay_rate=0.95\n",
    ")\n"
   ],
   "metadata": {
    "collapsed": false,
    "pycharm": {
     "name": "#%%\n"
    }
   }
  },
  {
   "cell_type": "markdown",
   "source": [
    "## 3. Belief Model Types\n",
    "This example uses a simple belief model of only a single type of individual, Person."
   ],
   "metadata": {
    "collapsed": false,
    "pycharm": {
     "name": "#%% md\n"
    }
   }
  },
  {
   "cell_type": "code",
   "execution_count": 3,
   "outputs": [],
   "source": [
    "class Person(Individual):\n",
    "    \"\"\"\n",
    "    A person that has a set of preferences when writing messages.\n",
    "    \"\"\"\n",
    "    name: str\n",
    "    conversed_with: TycheRoleField\n",
    "\n",
    "    def __init__(\n",
    "            self, name: str,\n",
    "            uses_emoji: TycheConceptValue = 0.5,\n",
    "            capitalises_first_word: TycheConceptValue = 0.5,\n",
    "            is_positive: TycheConceptValue = 0.5):\n",
    "\n",
    "        super().__init__(name)\n",
    "        self.conversed_with = ExclusiveRoleDist()\n",
    "        self._uses_emoji = uses_emoji\n",
    "        self._capitalises_first_word = capitalises_first_word\n",
    "        self._is_positive = is_positive\n",
    "\n",
    "    @concept()\n",
    "    def uses_emoji(self):\n",
    "        return self._uses_emoji\n",
    "\n",
    "    @uses_emoji.learning_func(decaying_learning_strat)\n",
    "    def set_uses_emoji(self, prob: float):\n",
    "        self._uses_emoji = prob\n",
    "\n",
    "    @concept()\n",
    "    def capitalises_first_word(self):\n",
    "        return self._capitalises_first_word\n",
    "\n",
    "    @capitalises_first_word.learning_func(decaying_learning_strat)\n",
    "    def set_capitalises_first_word(self, prob: float):\n",
    "        self._capitalises_first_word = prob\n",
    "\n",
    "    @concept()\n",
    "    def is_positive(self):\n",
    "        return self._is_positive\n",
    "\n",
    "    @is_positive.learning_func(decaying_learning_strat)\n",
    "    def set_is_positive(self, prob: float):\n",
    "        self._is_positive = prob\n",
    "\n",
    "    def sample_message(self) -> tuple[bool, bool, bool]:\n",
    "        \"\"\" Randomly samples a message that this person may have sent. \"\"\"\n",
    "        uses_emoji = random.uniform(0, 1) < self._uses_emoji\n",
    "        capitalises_first_word = random.uniform(0, 1) < self._capitalises_first_word\n",
    "        is_positive = random.uniform(0, 1) < self._is_positive\n",
    "        return uses_emoji, capitalises_first_word, is_positive\n"
   ],
   "metadata": {
    "collapsed": false,
    "pycharm": {
     "name": "#%%\n"
    }
   }
  },
  {
   "cell_type": "markdown",
   "source": [
    "## 4. Ground-Truth Belief Model\n",
    "The ground truth model is used to generate observations. It is also used as a reference point to see how well Tyche can approximate the true model."
   ],
   "metadata": {
    "collapsed": false,
    "pycharm": {
     "name": "#%% md\n"
    }
   }
  },
  {
   "cell_type": "code",
   "execution_count": 4,
   "outputs": [],
   "source": [
    "gt_bob = Person(\"Bob\", uses_emoji=0.9, capitalises_first_word=0.4, is_positive=0.15)\n",
    "gt_alice = Person(\"Alice\", uses_emoji=0.1, capitalises_first_word=0.8, is_positive=0.4)\n",
    "gt_jeff = Person(\"Jeff\", uses_emoji=0.5, capitalises_first_word=0.5, is_positive=0.5)\n",
    "gt_bob.conversed_with.add(gt_alice)\n",
    "gt_bob.conversed_with.add(gt_jeff)\n",
    "gt_alice.conversed_with.add(gt_bob)\n",
    "gt_alice.conversed_with.add(gt_jeff)\n",
    "gt_jeff.conversed_with.add(gt_alice)\n",
    "gt_jeff.conversed_with.add(gt_bob)\n",
    "\n",
    "gt_people = [gt_bob, gt_alice, gt_jeff]\n"
   ],
   "metadata": {
    "collapsed": false,
    "pycharm": {
     "name": "#%%\n"
    }
   }
  },
  {
   "cell_type": "markdown",
   "source": [
    "## 5. Estimating the author of sets of messages\n",
    "Using our ground-truth belief model, we may estimate the chance that a set of messages was written by each of the ground-truth individuals. We may then choose the highest chance individual as the most likely individual to have written that set of messages. This example generates random sets of messages (termed conversations) using the ground-truth model, and then estimates who wrote them. The accuracy of these estimations is then reported."
   ],
   "metadata": {
    "collapsed": false,
    "pycharm": {
     "name": "#%% md\n"
    }
   }
  },
  {
   "cell_type": "markdown",
   "source": [
    "### 5.1. Generate random conversations of messages\n",
    "We use the ground-truth individuals to randomly generate messages."
   ],
   "metadata": {
    "collapsed": false,
    "pycharm": {
     "name": "#%% md\n"
    }
   }
  },
  {
   "cell_type": "code",
   "execution_count": 5,
   "outputs": [
    {
     "name": "stdout",
     "output_type": "stream",
     "text": [
      "Example messages written by Bob:\n",
      "- (uses_emoji ∧ capitalises_first_word ∧ ¬is_positive)\n",
      "- (uses_emoji ∧ ¬capitalises_first_word ∧ ¬is_positive)\n",
      "- (uses_emoji ∧ ¬capitalises_first_word ∧ is_positive)\n"
     ]
    }
   ],
   "source": [
    "c_uses_emoji = Concept(\"uses_emoji\")\n",
    "c_capitalises = Concept(\"capitalises_first_word\")\n",
    "c_is_positive = Concept(\"is_positive\")\n",
    "\n",
    "def generate_conversation_observation(person: Person, message_count: int) -> ADLNode:\n",
    "    # Sample the properties of random messages.\n",
    "    messages = []\n",
    "    for message_no in range(message_count):\n",
    "        m_uses_emoji, m_capitalises, m_is_positive = person.sample_message()\n",
    "        o_uses_emoji = c_uses_emoji if m_uses_emoji else c_uses_emoji.complement()\n",
    "        o_capitalises = c_capitalises if m_capitalises else c_capitalises.complement()\n",
    "        o_is_positive = c_is_positive if m_is_positive else c_is_positive.complement()\n",
    "        messages.append(o_uses_emoji & o_capitalises & o_is_positive)\n",
    "\n",
    "    # Combine the messages into one observation.\n",
    "    return functools.reduce(lambda a, b: a & b, messages)\n",
    "\n",
    "print(\"Example messages written by Bob:\")\n",
    "print(f\"- {generate_conversation_observation(gt_bob, 1)}\")\n",
    "print(f\"- {generate_conversation_observation(gt_bob, 1)}\")\n",
    "print(f\"- {generate_conversation_observation(gt_bob, 1)}\")"
   ],
   "metadata": {
    "collapsed": false,
    "pycharm": {
     "name": "#%%\n"
    }
   }
  },
  {
   "cell_type": "markdown",
   "source": [
    "### 5.2. Estimation of conversation author\n",
    "We may now use Tyche to calculate the chance that randomly generated conversations were written by each ground-truth individual. The individual with the highest chance can then be chosen as the most-likely author. We count the number of times we get this estimation correct, to determine the accuracy of this method to predict the authors of sets of messages."
   ],
   "metadata": {
    "collapsed": false,
    "pycharm": {
     "name": "#%% md\n"
    }
   }
  },
  {
   "cell_type": "code",
   "execution_count": 6,
   "outputs": [
    {
     "name": "stdout",
     "output_type": "stream",
     "text": [
      "Evaluating the accuracy of the target model to predict the author of random sets of messages:\n",
      ".. 1 message:   Bob = 74.9%, Alice = 71.2%, Jeff = 49.1%\n",
      ".. 2 messages:  Bob = 83.0%, Alice = 81.7%, Jeff = 57.3%\n",
      ".. 3 messages:  Bob = 85.3%, Alice = 86.5%, Jeff = 71.8%\n",
      ".. 4 messages:  Bob = 92.3%, Alice = 89.8%, Jeff = 75.8%\n",
      ".. 5 messages:  Bob = 93.9%, Alice = 92.9%, Jeff = 79.5%\n",
      ".. 6 messages:  Bob = 94.5%, Alice = 93.6%, Jeff = 85.8%\n",
      ".. 7 messages:  Bob = 96.5%, Alice = 93.4%, Jeff = 88.2%\n",
      ".. 8 messages:  Bob = 96.2%, Alice = 95.9%, Jeff = 90.3%\n",
      ".. 9 messages:  Bob = 97.6%, Alice = 97.1%, Jeff = 91.7%\n",
      ".. 10 messages: Bob = 97.9%, Alice = 97.5%, Jeff = 94.2%\n"
     ]
    }
   ],
   "source": [
    "tests_per_person = 2000\n",
    "\n",
    "print(\"Evaluating the accuracy of the target model to predict the author of random sets of messages:\")\n",
    "result_accuracies = {p.name: [] for p in gt_people}\n",
    "for no_messages in range(1, 11):\n",
    "    correct_per_person = {p.name: 0 for p in gt_people}\n",
    "    for person in gt_people:\n",
    "        for test in range(tests_per_person):\n",
    "            # Generate a random conversation from the current person.\n",
    "            conversation = generate_conversation_observation(person, no_messages)\n",
    "\n",
    "            # Calculate who the model would predict to have written the conversation.\n",
    "            highest_prob = -1\n",
    "            highest_prob_person = None\n",
    "            for potential_person in gt_people:\n",
    "                prob = potential_person.eval(conversation)\n",
    "                if prob > highest_prob:\n",
    "                    highest_prob = prob\n",
    "                    highest_prob_person = potential_person\n",
    "\n",
    "            # Check if the prediction was correct.\n",
    "            if highest_prob_person.name == person.name:\n",
    "                correct_per_person[person.name] += 1\n",
    "\n",
    "    # Calculate the accuracies of each individual.\n",
    "    accuracy_per_person = {}\n",
    "    for name, correct in correct_per_person.items():\n",
    "        accuracy = 100 * correct / tests_per_person\n",
    "        accuracy_per_person[name] = accuracy\n",
    "        result_accuracies[name].append(accuracy)\n",
    "\n",
    "    print(f\".. {no_messages} message{'s' if no_messages > 1 else ''}: \".ljust(16) + \", \".join(\n",
    "        [f\"{name} = {accuracy:.1f}%\" for name, accuracy in accuracy_per_person.items()]\n",
    "    ))\n"
   ],
   "metadata": {
    "collapsed": false,
    "pycharm": {
     "name": "#%%\n"
    }
   }
  },
  {
   "cell_type": "code",
   "execution_count": 7,
   "outputs": [
    {
     "data": {
      "text/plain": "<Figure size 792x504 with 1 Axes>",
      "image/png": "[encoded data removed]"
     },
     "metadata": {
      "needs_background": "light"
     },
     "output_type": "display_data"
    }
   ],
   "source": [
    "\n",
    "fig, ax = plt.subplots(1, 1)\n",
    "fig.set_size_inches(w=11, h=7)\n",
    "styles = ['-o', '--D', '-.s']\n",
    "colors = [0.0, 0.5, 0.25]\n",
    "for index, person in enumerate(gt_people):\n",
    "    results = result_accuracies[person.name]\n",
    "    col = colors[index]\n",
    "    ax.plot(range(1, 11), results, styles[index], color=(col, col, col), label=person.name)\n",
    "\n",
    "ax.legend(loc='lower right')\n",
    "ax.set_title(\"Accuracy of author estimation against number of messages\")\n",
    "ax.set_xlim(1, 10)\n",
    "ax.set_xlabel(\"Number of messages in each generated conversation\")\n",
    "ax.set_ylim(33, 100)\n",
    "_ = ax.set_ylabel(\"Accuracy of author estimation\")\n"
   ],
   "metadata": {
    "collapsed": false,
    "pycharm": {
     "name": "#%%\n"
    }
   }
  },
  {
   "cell_type": "markdown",
   "source": [
    "**Discussion**\n",
    "\n",
    "These results demonstrate that Tyche provides an effective means of estimating the author of messages when only given their writing tendencies. When only a single message is provided, we are able to estimate if Bob authored a message with 77% accuracy. This is quite an accurate estimate. However, with only a single message, it is harder to determine if Jeff authored a message, with only 50% accuracy for Jeff. This is as expected, as Jeff's writing tendencies are less distinct than Bob's.\n",
    "\n",
    "However, as the number of messages provided for prediction is increased, our author estimation for all authors also drastically increases. With just 10 messages, we can predict Jeff's messages with 94% accuracy, and Bob's messages with 98% accuracy. This suggests that if you had even larger sets of messages from the same author, then Tyche should be even more accurate at author prediction."
   ],
   "metadata": {
    "collapsed": false,
    "pycharm": {
     "name": "#%% md\n"
    }
   }
  },
  {
   "cell_type": "markdown",
   "source": [
    "## 6. Learning of Message Writing Tendencies\n",
    "We use random observations of sets of messages generated from the ground-truth model (termed conversations) to learn the message writing tendencies of each person. This has the goal of estimating the ground-truth model when only supplied with indirect observations from it."
   ],
   "metadata": {
    "collapsed": false,
    "pycharm": {
     "name": "#%% md\n"
    }
   }
  },
  {
   "cell_type": "markdown",
   "source": [
    "### 6.1. Unbiased Initial Belief Model\n",
    "We generate an initial belief model to learn using, which is initialised with all probabilities at their default values."
   ],
   "metadata": {
    "collapsed": false,
    "pycharm": {
     "name": "#%% md\n"
    }
   }
  },
  {
   "cell_type": "code",
   "execution_count": 8,
   "outputs": [],
   "source": [
    "def create_initial_learn_model() -> tuple[Person, Person, Person]:\n",
    "    \"\"\" Constructs the initial model to train from. \"\"\"\n",
    "    bob = Person(\"Bob\")\n",
    "    alice = Person(\"Alice\")\n",
    "    jeff = Person(\"Jeff\")\n",
    "    bob.conversed_with.add(alice)\n",
    "    bob.conversed_with.add(jeff)\n",
    "    alice.conversed_with.add(bob)\n",
    "    alice.conversed_with.add(jeff)\n",
    "    jeff.conversed_with.add(alice)\n",
    "    jeff.conversed_with.add(bob)\n",
    "    return bob, alice, jeff\n"
   ],
   "metadata": {
    "collapsed": false,
    "pycharm": {
     "name": "#%%\n"
    }
   }
  },
  {
   "cell_type": "markdown",
   "source": [
    "### 6.2. Learn using Generated Observations\n",
    "We run several trials where we start with the initial learning model, and train it using randomly generated observations."
   ],
   "metadata": {
    "collapsed": false,
    "pycharm": {
     "name": "#%% md\n"
    }
   }
  },
  {
   "cell_type": "code",
   "execution_count": 9,
   "outputs": [
    {
     "name": "stdout",
     "output_type": "stream",
     "text": [
      "Running with 10 trials, 500 observations per trial, and conversations of 2 to 4 messages\n",
      ".. running trial 1\n",
      ".. running trial 2\n",
      ".. running trial 3\n",
      ".. running trial 4\n",
      ".. running trial 5\n",
      ".. running trial 6\n",
      ".. running trial 7\n",
      ".. running trial 8\n",
      ".. running trial 9\n",
      ".. running trial 10\n"
     ]
    }
   ],
   "source": [
    "no_trials = 10\n",
    "no_observations_per_trial = 500\n",
    "\n",
    "# We generate 'conversations' of a small number of messages.\n",
    "min_messages = 2\n",
    "max_messages = 4\n",
    "\n",
    "print(f\"Running with {no_trials} trials, {no_observations_per_trial} observations per trial, \"\n",
    "      f\"and conversations of {min_messages} to {max_messages} messages\")\n",
    "trial_results = []\n",
    "example_observations = []\n",
    "for trial_no in range(no_trials):\n",
    "    print(f\".. running trial {trial_no + 1}\")\n",
    "\n",
    "    learn_people = list(create_initial_learn_model())\n",
    "    learn_people_by_name: dict[str, Person] = {person.name: person for person in learn_people}\n",
    "\n",
    "    # Generate random indirect observations about Bob, Alice, and Jeff.\n",
    "    for _ in range(no_observations_per_trial):\n",
    "        # The context person is the person that we observed having a conversation with someone.\n",
    "        gt_recipient = gt_people[random.randint(0, len(gt_people) - 1)]\n",
    "        learn_recipient = learn_people_by_name[gt_recipient.name]\n",
    "\n",
    "        # Sample the messages of the conversation.\n",
    "        partner = cast(Person, gt_recipient.conversed_with.sample())\n",
    "        conversation = generate_conversation_observation(partner, random.randint(min_messages, max_messages))\n",
    "        observation = Expectation(\"conversed_with\", conversation)\n",
    "        if len(example_observations) < 4:\n",
    "            example_observations.append(f\"Observe at {gt_recipient.name}:\\n{str(observation)}\")\n",
    "\n",
    "        # Apply the observation to the learned ctx person.\n",
    "        learn_recipient.observe(observation)\n",
    "\n",
    "    trial_results.append(learn_people_by_name)\n"
   ],
   "metadata": {
    "collapsed": false,
    "pycharm": {
     "name": "#%%\n"
    }
   }
  },
  {
   "cell_type": "code",
   "execution_count": 10,
   "outputs": [
    {
     "name": "stdout",
     "output_type": "stream",
     "text": [
      "Example Observations:\n",
      "\n",
      "Observe at Bob:\n",
      "[conversed_with]((¬uses_emoji ∧ ¬capitalises_first_word ∧ is_positive ∧ ¬uses_emoji ∧ ¬capitalises_first_word ∧ ¬is_positive))\n",
      "\n",
      "Observe at Bob:\n",
      "[conversed_with]((uses_emoji ∧ capitalises_first_word ∧ ¬is_positive ∧ ¬uses_emoji ∧ ¬capitalises_first_word ∧ is_positive))\n",
      "\n",
      "Observe at Alice:\n",
      "[conversed_with]((uses_emoji ∧ ¬capitalises_first_word ∧ ¬is_positive ∧ uses_emoji ∧ capitalises_first_word ∧ ¬is_positive ∧ uses_emoji ∧ ¬capitalises_first_word ∧ ¬is_positive))\n",
      "\n",
      "Observe at Bob:\n",
      "[conversed_with]((¬uses_emoji ∧ capitalises_first_word ∧ ¬is_positive ∧ ¬uses_emoji ∧ capitalises_first_word ∧ is_positive ∧ ¬uses_emoji ∧ ¬capitalises_first_word ∧ is_positive ∧ ¬uses_emoji ∧ ¬capitalises_first_word ∧ is_positive))\n"
     ]
    }
   ],
   "source": [
    "print(\"Example Observations:\\n\")\n",
    "print(\"\\n\\n\".join(example_observations))"
   ],
   "metadata": {
    "collapsed": false,
    "pycharm": {
     "name": "#%%\n"
    }
   }
  },
  {
   "cell_type": "markdown",
   "source": [
    "### 6.3. Resulting Learnt People\n",
    "We can print the ground-truth belief model, and the newly learnt belief model, to allow us to compare how similar our learnt belief model is to the ground-truth belief model."
   ],
   "metadata": {
    "collapsed": false,
    "pycharm": {
     "name": "#%% md\n"
    }
   }
  },
  {
   "cell_type": "code",
   "execution_count": 11,
   "outputs": [
    {
     "name": "stdout",
     "output_type": "stream",
     "text": [
      "Ground-Truth People for Comparison:\n",
      "- Bob(capitalises_first_word=0.400, is_positive=0.150, uses_emoji=0.900)\n",
      "- Alice(capitalises_first_word=0.800, is_positive=0.400, uses_emoji=0.100)\n",
      "- Jeff(capitalises_first_word=0.500, is_positive=0.500, uses_emoji=0.500)\n",
      "\n"
     ]
    }
   ],
   "source": [
    "feature_concepts = [Concept(c) for c in [\"capitalises_first_word\", \"is_positive\", \"uses_emoji\"]]\n",
    "\n",
    "print(\"Ground-Truth People for Comparison:\")\n",
    "for p in gt_people:\n",
    "    print(f\"- {p.name}(\" + \", \".join(f\"{c}={p.eval(c):.3f}\" for c in feature_concepts) + \")\")\n",
    "\n",
    "print()"
   ],
   "metadata": {
    "collapsed": false,
    "pycharm": {
     "name": "#%%\n"
    }
   }
  },
  {
   "cell_type": "code",
   "execution_count": 12,
   "outputs": [
    {
     "name": "stdout",
     "output_type": "stream",
     "text": [
      "Learnt People:\n",
      "- Bob(capitalises_first_word=0.413 ± 0.042, is_positive=0.163 ± 0.030, uses_emoji=0.879 ± 0.028)\n",
      "- Alice(capitalises_first_word=0.774 ± 0.039, is_positive=0.390 ± 0.033, uses_emoji=0.132 ± 0.032)\n",
      "- Jeff(capitalises_first_word=0.516 ± 0.038, is_positive=0.480 ± 0.052, uses_emoji=0.492 ± 0.049)\n",
      "\n"
     ]
    }
   ],
   "source": [
    "print(\"Learnt People:\")\n",
    "for target in gt_people:\n",
    "    learned = [people[target.name] for people in trial_results]\n",
    "    learned_uses_emoji = [p.uses_emoji() for p in learned]\n",
    "    learned_capitalises = [p.capitalises_first_word() for p in learned]\n",
    "    learned_is_positive = [p.is_positive() for p in learned]\n",
    "    print(f\"- {target.name}(\"\n",
    "          f\"capitalises_first_word={np.mean(learned_capitalises):.3f} ± {np.std(learned_capitalises):.3f}, \"\n",
    "          f\"is_positive={np.mean(learned_is_positive):.3f} ± {np.std(learned_is_positive):.3f}, \"\n",
    "          f\"uses_emoji={np.mean(learned_uses_emoji):.3f} ± {np.std(learned_uses_emoji):.3f})\")\n",
    "\n",
    "print()"
   ],
   "metadata": {
    "collapsed": false,
    "pycharm": {
     "name": "#%%\n"
    }
   }
  },
  {
   "cell_type": "markdown",
   "source": [
    "**Discussion**\n",
    "\n",
    "From the results above, we can see that Tyche is able to quite accurately learn the writing tendencies of each author without knowing for certain which messages they wrote. This learning is based solely upon the initial knowledge in the model that each person would not have received a message written by themselves. There is some error in these results, although the error does decrease as the number of observations is increased.\n",
    "\n",
    "It can be observed that the standard deviation in the estimations of the writing tendencies of Jeff are significantly higher than those of Bob and Alice. This is likely due to Jeff having the least unique characteristics of the three individuals. Jeff falls between Bob and Alice in the value of all their concepts, and as such we are more likely to confuse Jeff for Bob or Alice than to confuse Bob for Alice or vice versa.\n"
   ],
   "metadata": {
    "collapsed": false,
    "pycharm": {
     "name": "#%% md\n"
    }
   }
  },
  {
   "cell_type": "markdown",
   "source": [
    "## 7. Conclusion\n",
    "These results demonstrate the efficacy of Tyche for use in the de-anonymisation of messages, when only the recipient of the messages is known. This result demonstrates that Tyche is an effective tool at extracting knowledge from indirect observations about the world. Therefore, we hope that Tyche may be used in similar ways to assist in the discovery of unintuitive or unclear relationships within complex datasets."
   ],
   "metadata": {
    "collapsed": false,
    "pycharm": {
     "name": "#%% md\n"
    }
   }
  }
 ],
 "metadata": {
  "kernelspec": {
   "display_name": "Python 3",
   "language": "python",
   "name": "python3"
  },
  "language_info": {
   "codemirror_mode": {
    "name": "ipython",
    "version": 2
   },
   "file_extension": ".py",
   "mimetype": "text/x-python",
   "name": "python",
   "nbconvert_exporter": "python",
   "pygments_lexer": "ipython2",
   "version": "2.7.6"
  }
 },
 "nbformat": 4,
 "nbformat_minor": 0
}