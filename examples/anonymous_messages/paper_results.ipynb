{
 "cells": [
  {
   "cell_type": "markdown",
   "source": [
    "# Anonymous Messages\n",
    "This notebook contains the generation of results for the Tyche paper's example use of Tyche for knowledge extraction from a set of messages, where the source that sent each message is unknown, but the recipient is known. This notebook contains the analysis that is presented in the Tyche paper. A walkthrough describing this use-case of Tyche in more detail is given in walkthrough.ipynb."
   ],
   "metadata": {
    "collapsed": false,
    "pycharm": {
     "name": "#%% md\n"
    }
   }
  },
  {
   "cell_type": "markdown",
   "source": [
    "## 1. Imports"
   ],
   "metadata": {
    "collapsed": false,
    "pycharm": {
     "name": "#%% md\n"
    }
   }
  },
  {
   "cell_type": "code",
   "execution_count": 1,
   "outputs": [],
   "source": [
    "%matplotlib inline\n",
    "\n",
    "from examples.anonymous_messages.tyche_model import *\n",
    "from examples.anonymous_messages.problog_model import *\n",
    "import matplotlib\n",
    "import matplotlib.pyplot as plt\n",
    "\n",
    "matplotlib.rcParams.update({'font.size': 16})\n"
   ],
   "metadata": {
    "collapsed": false,
    "pycharm": {
     "name": "#%%\n"
    }
   }
  },
  {
   "cell_type": "markdown",
   "source": [
    "## 2. Ground-Truth Belief Model\n",
    "The ground truth model is used to generate observations. It is also used as a reference point to see how well Tyche and ProbLog can approximate the true model."
   ],
   "metadata": {
    "collapsed": false,
    "pycharm": {
     "name": "#%% md\n"
    }
   }
  },
  {
   "cell_type": "code",
   "execution_count": 2,
   "outputs": [
    {
     "name": "stdout",
     "output_type": "stream",
     "text": [
      "Ground-Truth Belief Model:\n",
      "- Alice(capitalises_first_word=0.800, is_positive=0.400, uses_emoji=0.100, conversed_with=Exclusive{25.0%: Bob, 75.0%: Jeff})\n",
      "- Bob(capitalises_first_word=0.400, is_positive=0.150, uses_emoji=0.900, conversed_with=Exclusive{60.0%: Alice, 40.0%: Jeff})\n",
      "- Jeff(capitalises_first_word=0.500, is_positive=0.500, uses_emoji=0.500, conversed_with=Exclusive{70.0%: Alice, 30.0%: Bob})\n"
     ]
    }
   ],
   "source": [
    "from examples.anonymous_messages.testing import construct_target_model\n",
    "\n",
    "gt_model = construct_target_model()\n",
    "print(f\"Ground-Truth Belief Model:\\n{gt_model}\")\n"
   ],
   "metadata": {
    "collapsed": false,
    "pycharm": {
     "name": "#%%\n"
    }
   }
  },
  {
   "cell_type": "markdown",
   "source": [
    "## 3. Tyche & ProbLog Implementations"
   ],
   "metadata": {
    "collapsed": false,
    "pycharm": {
     "name": "#%% md\n"
    }
   }
  },
  {
   "cell_type": "code",
   "execution_count": 3,
   "outputs": [],
   "source": [
    "tyche_imp = TycheImplementation()\n",
    "problog_imp = ProbLogImplementation()"
   ],
   "metadata": {
    "collapsed": false,
    "pycharm": {
     "name": "#%%\n"
    }
   }
  },
  {
   "cell_type": "markdown",
   "source": [
    "## 4. Estimating the author of sets of messages"
   ],
   "metadata": {
    "collapsed": false,
    "pycharm": {
     "name": "#%% md\n"
    }
   }
  },
  {
   "cell_type": "code",
   "execution_count": null,
   "outputs": [
    {
     "name": "stdout",
     "output_type": "stream",
     "text": [
      "--------------------------\n",
      "   Tyche Implementation   \n",
      "--------------------------\n",
      "Evaluating the accuracy of the Tyche implementation to predict the author of random sets of messages (10000 tests per person, per message count)\n",
      ".. 1 message:    Bob = 74.8%, Alice = 76.9%, Jeff = 90.4%     (0.06 ms per evaluation)\n"
     ]
    }
   ],
   "source": [
    "from examples.anonymous_messages.testing import run_inference_test\n",
    "\n",
    "no_tests = 10_000\n",
    "min_messages = 1\n",
    "max_messages = 10\n",
    "rng_seed = 42\n",
    "\n",
    "print(\"--------------------------\")\n",
    "print(\"   Tyche Implementation   \")\n",
    "print(\"--------------------------\")\n",
    "tyche_inference_results = run_inference_test(\n",
    "    tyche_imp, no_tests=no_tests, min_messages=min_messages,\n",
    "    max_messages=max_messages, rng_seed=rng_seed\n",
    ")\n",
    "\n",
    "print()\n",
    "print(\"----------------------------\")\n",
    "print(\"   ProbLog Implementation   \")\n",
    "print(\"----------------------------\")\n",
    "problog_inference_results = run_inference_test(\n",
    "    problog_imp, no_tests=no_tests, min_messages=min_messages,\n",
    "    max_messages=max_messages, rng_seed=rng_seed\n",
    ")\n"
   ],
   "metadata": {
    "collapsed": false,
    "pycharm": {
     "name": "#%%\n",
     "is_executing": true
    }
   }
  },
  {
   "cell_type": "code",
   "execution_count": null,
   "outputs": [],
   "source": [
    "\n",
    "def plot_inference_accuracy_results(\n",
    "        name: Optional[str],\n",
    "        inference_results: tuple[list[int], list[dict[str, float]], list[float]]\n",
    ") -> plt.Figure:\n",
    "\n",
    "    fig, ax = plt.subplots(1, 1)\n",
    "    fig.set_size_inches(w=8, h=5)\n",
    "    styles = ['-o', '--D', '-.s']\n",
    "    colors = [0.0, 0.5, 0.25]\n",
    "\n",
    "    no_messages, correct_percentages, _ = inference_results\n",
    "    for index, person in enumerate(gt_model.all):\n",
    "        results = correct_percentages[person.name]\n",
    "        col = colors[index]\n",
    "        ax.plot(no_messages, results, styles[index], color=(col, col, col), label=person.name)\n",
    "\n",
    "    ax.legend(loc='lower right')\n",
    "    ax.set_title(\"Accuracy of author estimation\" + (f\" ({name})\" if name is not None else \"\"))\n",
    "    ax.set_xlim(min(no_messages), max(no_messages))\n",
    "    ax.set_xlabel(\"Number of messages in each generated conversation\")\n",
    "    ax.set_ylim(50, 100)\n",
    "    ax.set_ylabel(\"Accuracy of author estimation (%)\")\n",
    "    return fig\n",
    "\n",
    "\n",
    "def plot_inference_duration_results(\n",
    "        name: Optional[str],\n",
    "        inference_results: tuple[list[int], list[dict[str, float]], list[float]],\n",
    "        ylim: float\n",
    ") -> plt.Figure:\n",
    "\n",
    "    fig, ax = plt.subplots(1, 1)\n",
    "    fig.set_size_inches(w=8, h=5)\n",
    "\n",
    "    no_messages, _, durations_ms = inference_results\n",
    "\n",
    "    ax.plot(no_messages, durations_ms, '-o', color=(0.0, 0.0, 0.0))\n",
    "\n",
    "    ax.set_title(\"Duration of author estimation\" + (f\" ({name})\" if name is not None else \"\"))\n",
    "    ax.set_xlim(min(no_messages), max(no_messages))\n",
    "    ax.set_xlabel(\"Number of messages in each generated conversation\")\n",
    "    ax.set_ylim(0, ylim)\n",
    "    ax.set_ylabel(\"Duration taken to infer author (ms)\")\n",
    "    return fig\n"
   ],
   "metadata": {
    "collapsed": false,
    "pycharm": {
     "name": "#%%\n",
     "is_executing": true
    }
   }
  },
  {
   "cell_type": "code",
   "execution_count": null,
   "outputs": [],
   "source": [
    "import os\n",
    "\n",
    "accuracy_fig = plot_inference_accuracy_results(None, tyche_inference_results)\n",
    "accuracy_fig.savefig(\"accuracies.pgf\")\n"
   ],
   "metadata": {
    "collapsed": false,
    "pycharm": {
     "name": "#%%\n",
     "is_executing": true
    }
   }
  },
  {
   "cell_type": "code",
   "execution_count": null,
   "outputs": [],
   "source": [
    "_ = plot_inference_accuracy_results(\"ProbLog\", problog_inference_results)"
   ],
   "metadata": {
    "collapsed": false,
    "pycharm": {
     "name": "#%%\n",
     "is_executing": true
    }
   }
  },
  {
   "cell_type": "markdown",
   "source": [
    "## 5. Learning the Belief Model"
   ],
   "metadata": {
    "collapsed": false,
    "pycharm": {
     "name": "#%% md\n"
    }
   }
  },
  {
   "cell_type": "markdown",
   "source": [
    "### 5.1. Tyche Implementation"
   ],
   "metadata": {
    "collapsed": false,
    "pycharm": {
     "name": "#%% md\n"
    }
   }
  },
  {
   "cell_type": "code",
   "execution_count": null,
   "outputs": [],
   "source": [
    "from examples.anonymous_messages.testing import run_learning_test\n",
    "\n",
    "\n",
    "no_trials = 10\n",
    "no_observations = 5000\n",
    "repetitions = 2\n",
    "min_messages = 2\n",
    "max_messages: int = 4\n",
    "rng_seed: int = 42\n",
    "\n",
    "run_learning_test(\n",
    "    tyche_imp, no_trials=no_trials, no_observations=no_observations,\n",
    "    repetitions=repetitions, min_messages=min_messages,\n",
    "    max_messages=max_messages, rng_seed=rng_seed\n",
    ")"
   ],
   "metadata": {
    "collapsed": false,
    "pycharm": {
     "name": "#%%\n",
     "is_executing": true
    }
   }
  },
  {
   "cell_type": "markdown",
   "source": [
    "### 5.2. ProbLog Implementation"
   ],
   "metadata": {
    "collapsed": false,
    "pycharm": {
     "name": "#%% md\n"
    }
   }
  },
  {
   "cell_type": "code",
   "execution_count": null,
   "outputs": [],
   "source": [
    "run_learning_test(\n",
    "    problog_imp, no_trials=no_trials, no_observations=no_observations,\n",
    "    repetitions=repetitions, min_messages=min_messages,\n",
    "    max_messages=max_messages, rng_seed=rng_seed\n",
    ")\n"
   ],
   "metadata": {
    "collapsed": false,
    "pycharm": {
     "name": "#%%\n",
     "is_executing": true
    }
   }
  },
  {
   "cell_type": "code",
   "execution_count": null,
   "outputs": [],
   "source": [],
   "metadata": {
    "collapsed": false,
    "pycharm": {
     "name": "#%%\n",
     "is_executing": true
    }
   }
  }
 ],
 "metadata": {
  "kernelspec": {
   "display_name": "Python 3",
   "language": "python",
   "name": "python3"
  },
  "language_info": {
   "codemirror_mode": {
    "name": "ipython",
    "version": 2
   },
   "file_extension": ".py",
   "mimetype": "text/x-python",
   "name": "python",
   "nbconvert_exporter": "python",
   "pygments_lexer": "ipython2",
   "version": "2.7.6"
  }
 },
 "nbformat": 4,
 "nbformat_minor": 0
}